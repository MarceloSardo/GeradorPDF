{
 "cells": [
  {
   "cell_type": "code",
   "execution_count": 10,
   "id": "9ed70f32",
   "metadata": {
    "scrolled": true
   },
   "outputs": [
    {
     "name": "stdout",
     "output_type": "stream",
     "text": [
      "Digite a descrição do projeto: Desenvolvimento python\n",
      "Digite o total de horas estimadas: 60\n",
      "Digite o valor da hora trabalhada: 120\n",
      "Digite o prazo estimado: 2 meses\n"
     ]
    }
   ],
   "source": [
    "# Entrada dos dados.\n",
    "projeto = input (\"Digite a descrição do projeto: \")\n",
    "horas_estimadas = input(\"Digite o total de horas estimadas: \")\n",
    "valor_hora = input(\"Digite o valor da hora trabalhada: \")\n",
    "prazo_estimado = input(\"Digite o prazo estimado: \")"
   ]
  },
  {
   "cell_type": "code",
   "execution_count": 11,
   "id": "981116a0",
   "metadata": {},
   "outputs": [],
   "source": [
    "# Cáculo do valor estimado.\n",
    "valor_total_estimado = int(horas_estimadas) * int(valor_hora)"
   ]
  },
  {
   "cell_type": "code",
   "execution_count": 12,
   "id": "ed0be512",
   "metadata": {},
   "outputs": [],
   "source": [
    "# Importando PDF.\n",
    "from fpdf import FPDF"
   ]
  },
  {
   "cell_type": "code",
   "execution_count": 13,
   "id": "ad35bf54",
   "metadata": {},
   "outputs": [],
   "source": [
    "# Gerando PDF\n",
    "pdf = FPDF()\n",
    "pdf.add_page()\n",
    "pdf.set_font(\"Arial\")"
   ]
  },
  {
   "cell_type": "code",
   "execution_count": 14,
   "id": "1da47d27",
   "metadata": {},
   "outputs": [],
   "source": [
    "# Utilizando Template\n",
    "pdf.image(\"template.png\", x=0, y=0 )"
   ]
  },
  {
   "cell_type": "code",
   "execution_count": 15,
   "id": "5da7ba5f",
   "metadata": {},
   "outputs": [],
   "source": [
    "# Inserindo dados do projeto.\n",
    "pdf.text(115, 145, projeto)\n",
    "pdf.text(115, 160, horas_estimadas)\n",
    "pdf.text(115, 175, valor_hora)\n",
    "pdf.text(115, 190, prazo_estimado)\n",
    "pdf.text(115, 205, str(valor_total_estimado))"
   ]
  },
  {
   "cell_type": "code",
   "execution_count": 16,
   "id": "89a78354",
   "metadata": {},
   "outputs": [
    {
     "name": "stdout",
     "output_type": "stream",
     "text": [
      "Orçamento gerado com sucesso!\n"
     ]
    }
   ],
   "source": [
    "# Salvando arquivo.\n",
    "pdf.output(\"Orçamento.pdf\")\n",
    "print(\"Orçamento gerado com sucesso!\")"
   ]
  }
 ],
 "metadata": {
  "kernelspec": {
   "display_name": "Python 3.10.8 64-bit",
   "language": "python",
   "name": "python3"
  },
  "language_info": {
   "codemirror_mode": {
    "name": "ipython",
    "version": 3
   },
   "file_extension": ".py",
   "mimetype": "text/x-python",
   "name": "python",
   "nbconvert_exporter": "python",
   "pygments_lexer": "ipython3",
   "version": "3.10.8"
  },
  "vscode": {
   "interpreter": {
    "hash": "92e90bd6c5a94ac116b32daed143846700409151323ad0aa8c589766ff7ac504"
   }
  }
 },
 "nbformat": 4,
 "nbformat_minor": 5
}
